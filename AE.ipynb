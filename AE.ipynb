{
 "cells": [
  {
   "cell_type": "markdown",
   "metadata": {},
   "source": [
    "# DSA Questions and Solutions"
   ]
  },
  {
   "cell_type": "markdown",
   "metadata": {},
   "source": [
    "## <font color = 'brown'> Easy </font>"
   ]
  },
  {
   "cell_type": "markdown",
   "metadata": {},
   "source": [
    "### Two Number Sum\n",
    "Write a function that takes in a non-empty array of distinct integers and an integer representing a target sum. If any two numbers in the input array sum up to the target sum, the function should return them in an array, in any order. If no two numbers sum up to the target sum, the function should return an empty array. \n",
    "\n",
    "Note that the target sum has to be obtained by summing two different integers in the array; you can't add a single integer to itself in order to obtain the target sum.\n",
    "\n",
    "You can assume that there will be at most one pair of numbers summing up to the target sum.\n",
    "\n",
    "<b>Sample Input</b><br>\n",
    "array = [3, 5, -4, 8, 11, 1, -1, 6]\n",
    "\n",
    "<b>Sample Output</b><br>\n",
    "[-1, 11] # the numbers could be in reverse order"
   ]
  },
  {
   "cell_type": "code",
   "execution_count": 2,
   "metadata": {},
   "outputs": [],
   "source": [
    "# Solution 1\n",
    "# O(n^2) time | O(1) space\n",
    "def twoNumberSum(array, targetSum):\n",
    "    for i in range(len(array) - 1):\n",
    "        firstNum = array[i]\n",
    "    for j in range(i + 1, len(array)):\n",
    "        secondNum = array[j]\n",
    "        if firstNum + secondNum == targetSum:\n",
    "            return [firstNum, secondNum]\n",
    "    return []"
   ]
  },
  {
   "cell_type": "code",
   "execution_count": 3,
   "metadata": {},
   "outputs": [],
   "source": [
    "# Solution 2\n",
    "# O(n) time | O(n) space\n",
    "def twoNumberSum(array, targetSum):\n",
    "    nums = {}\n",
    "    for num in array:\n",
    "        potentialMatch = targetSum - num\n",
    "        if potentialMatch in nums:\n",
    "            return [potentialMatch, num]\n",
    "        else:\n",
    "            nums[num] = True\n",
    "    return []"
   ]
  },
  {
   "cell_type": "code",
   "execution_count": 5,
   "metadata": {},
   "outputs": [],
   "source": [
    "# Solution 3\n",
    "# O(nlog(n)) | O(1) space\n",
    "def twoNumberSum(array, targetSum):\n",
    "    array.sort()\n",
    "    left = 0\n",
    "    right = len(array) - 1\n",
    "    while left < right:\n",
    "        currentSum = array[left] + array[right]\n",
    "        if currentSum == targetSum:\n",
    "            return [array[left], array[right]]\n",
    "        elif currentSum < targetSum:\n",
    "            left += 1\n",
    "        elif currentSum > targetSum:\n",
    "            right -= 1\n",
    "    return []"
   ]
  },
  {
   "cell_type": "markdown",
   "metadata": {},
   "source": [
    "### Validate Subsequence\n",
    "Given two non-empty arrays of integers, write a function that determines whether the second array is a subsequence of the first one. A subsequence of an array is a set of numbers that aren't necessarily adjacent in the array but that are in the same order as they appear in the array. For instance, the numbers <span>[1, 3, 4]</span> form a subsequence of the array <span>[1, 2, 3, 4]</span>, and so do the numbers <span>[2, 4]</span>. Note that a single number in an array and the array itself are both valid subsequences of the array.\n",
    "\n",
    "<b>Sample Input:</b><br>\n",
    "array = [5, 1, 22, 25, 6, -1, 8, 10]<br>\n",
    "sequence = [1, 6, -1, 10]\n",
    "\n",
    "<b>Sample Output:</b><br>\n",
    "true\n"
   ]
  },
  {
   "cell_type": "code",
   "execution_count": 10,
   "metadata": {},
   "outputs": [],
   "source": [
    "# Solution 1\n",
    "# O(n) time | O(1) space - where n is the length of the array\n",
    "def isValidSubsequence(array, sequence):\n",
    "    arrIdx = 0\n",
    "    seqIdx = 0\n",
    "    while arrIdx < len(array) and seqIdx < len(sequence):\n",
    "        if array[arrIdx] == sequence[seqIdx]:\n",
    "            seqIdx += 1\n",
    "        arrIdx += 1\n",
    "    return seqIdx == len(sequence)"
   ]
  },
  {
   "cell_type": "code",
   "execution_count": 11,
   "metadata": {},
   "outputs": [],
   "source": [
    "# Solution 2\n",
    "# O(n) time | O(1) space - where n is the length of the array\n",
    "def isValidSubsequence(array, sequence):\n",
    "    seqIdx = 0\n",
    "    for value in array:\n",
    "        if seqIdx == len(sequence):\n",
    "            break\n",
    "        if sequence[seqIdx] == value:\n",
    "            seqIdx += 1\n",
    "    return seqIdx == len(sequence)"
   ]
  },
  {
   "cell_type": "markdown",
   "metadata": {},
   "source": [
    "### Sorted Squared Array\n",
    "Write a function that takes in a non-empty array of integers that are sorted in ascending order and returns a new array of the same length with the squares of the original integers also sorted\n",
    "in ascending order.\n",
    "\n",
    "<b>Sample Input</b><br>\n",
    "array = [1, 2, 3, 5, 6, 8, 9]\n",
    "\n",
    "<b>Sample Output</b><br>\n",
    "[1, 4, 9, 25, 36, 64, 81]"
   ]
  },
  {
   "cell_type": "code",
   "execution_count": 6,
   "metadata": {},
   "outputs": [],
   "source": [
    "# Solution 1\n",
    "# O(nlogn) time | O(n) space - where n is the length of\n",
    "def sortedSquaredArray(array):\n",
    "    sortedSquares = [0 for _ in array]\n",
    "    for idx in range(len(array)):\n",
    "        value = array[idx]\n",
    "        sortedSquares[idx] = value * value\n",
    "    sortedSquares.sort()\n",
    "    return sortedSquares"
   ]
  },
  {
   "cell_type": "code",
   "execution_count": 9,
   "metadata": {},
   "outputs": [],
   "source": [
    "# Solution 2\n",
    "# O(n) time | O(n) space - where n is the length of the\n",
    "def sortedSquaredArray(array):\n",
    "    sortedSquares = [0 for _ in array]\n",
    "    smallerValueIdx = 0\n",
    "    largerValueIdx = len(array) - 1\n",
    "    for idx in reversed(range(len(array))):\n",
    "        smallerValue = array[smallerValueIdx]\n",
    "        largerValue = array[largerValueIdx]\n",
    "        if abs(smallerValue) > abs(largerValue):\n",
    "            sortedSquares[idx] = smallerValue * smallerValue\n",
    "            smallerValueIdx += 1\n",
    "        else:\n",
    "            sortedSquares[idx] = largerValue * largerValue\n",
    "            largerValueIdx -= 1\n",
    "    return sortedSquares"
   ]
  },
  {
   "cell_type": "code",
   "execution_count": null,
   "metadata": {},
   "outputs": [],
   "source": []
  }
 ],
 "metadata": {
  "kernelspec": {
   "display_name": "Python 3",
   "language": "python",
   "name": "python3"
  },
  "language_info": {
   "codemirror_mode": {
    "name": "ipython",
    "version": 3
   },
   "file_extension": ".py",
   "mimetype": "text/x-python",
   "name": "python",
   "nbconvert_exporter": "python",
   "pygments_lexer": "ipython3",
   "version": "3.8.5"
  }
 },
 "nbformat": 4,
 "nbformat_minor": 4
}
